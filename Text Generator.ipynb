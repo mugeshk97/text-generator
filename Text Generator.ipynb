{
 "cells": [
  {
   "cell_type": "code",
   "execution_count": 1,
   "metadata": {},
   "outputs": [],
   "source": [
    "import tensorflow as tf\n",
    "gpu = tf.config.experimental.list_physical_devices('GPU')[0]\n",
    "tf.config.experimental.set_memory_growth(gpu, True)\n",
    "import json\n",
    "import numpy as np"
   ]
  },
  {
   "cell_type": "code",
   "execution_count": 2,
   "metadata": {},
   "outputs": [],
   "source": [
    "model = tf.keras.models.load_model('model.h5')\n",
    "with open('encoder.json', 'r') as f:\n",
    "    encoder = json.load(f)\n",
    "with open('decoder.json', 'r') as f:\n",
    "    decoder = json.load(f)"
   ]
  },
  {
   "cell_type": "code",
   "execution_count": 3,
   "metadata": {},
   "outputs": [
    {
     "data": {
      "text/plain": [
       "'from fairest creatures we desire increase that thereby beautys'"
      ]
     },
     "execution_count": 3,
     "metadata": {},
     "output_type": "execute_result"
    }
   ],
   "source": [
    "ip_sentence = 'from fairest creatures we desire increase that thereby beautys'\n",
    "ip_sentence"
   ]
  },
  {
   "cell_type": "code",
   "execution_count": 4,
   "metadata": {},
   "outputs": [],
   "source": [
    "def sentence_encode(sentence):\n",
    "    encoded_sentence = []\n",
    "    for i in ip_sentence.split(' '):\n",
    "        encoded_sentence.append(encoder[str(i)])\n",
    "    encoded_sentence = np.array(encoded_sentence)\n",
    "    return encoded_sentence"
   ]
  },
  {
   "cell_type": "code",
   "execution_count": 5,
   "metadata": {},
   "outputs": [],
   "source": [
    "encoded_sentence = sentence_encode(ip_sentence)\n",
    "encoded_sentence = tf.keras.preprocessing.sequence.pad_sequences([encoded_sentence], maxlen= 10)\n",
    "encoded_sentence = encoded_sentence.reshape(1,-1)\n",
    "pred_story = ip_sentence"
   ]
  },
  {
   "cell_type": "code",
   "execution_count": 6,
   "metadata": {},
   "outputs": [
    {
     "name": "stdout",
     "output_type": "stream",
     "text": [
      "from fairest creatures we desire increase that thereby beautys self might never die but as the riper a use to decease his tender how might new his will held then contracted my his as seek thou my faring all all with with turns thorns up which a mens i i filed i thine in love night sweets matcheth and yet and and doth my or at them dost bear not or as see art being brings and bequest whom she nor thorns the my my grown cheek lends for shouldst you more of friend of his in you soon do have that with height fortify lame being so me\n"
     ]
    }
   ],
   "source": [
    "for i in range(100):\n",
    "    pred = model.predict(encoded_sentence)\n",
    "    next_pred = np.append(encoded_sentence,np.argmax(pred) )\n",
    "    encoded_sentence = np.delete(next_pred, 0)\n",
    "    encoded_sentence = encoded_sentence.reshape(1,-1)\n",
    "    word = decoder[str(np.argmax(pred))]\n",
    "    pred_story = pred_story +' '+ word\n",
    "print(pred_story)"
   ]
  }
 ],
 "metadata": {
  "kernelspec": {
   "display_name": "Python 3",
   "language": "python",
   "name": "python3"
  },
  "language_info": {
   "codemirror_mode": {
    "name": "ipython",
    "version": 3
   },
   "file_extension": ".py",
   "mimetype": "text/x-python",
   "name": "python",
   "nbconvert_exporter": "python",
   "pygments_lexer": "ipython3",
   "version": "3.7.6"
  }
 },
 "nbformat": 4,
 "nbformat_minor": 4
}
