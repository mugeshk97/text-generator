{
 "cells": [
  {
   "cell_type": "code",
   "execution_count": 1,
   "metadata": {},
   "outputs": [],
   "source": [
    "import string\n",
    "import numpy as np\n",
    "import tensorflow as tf\n",
    "gpu = tf.config.experimental.list_physical_devices('GPU')[0]\n",
    "tf.config.experimental.set_memory_growth(gpu, True)\n",
    "\n",
    "\n",
    "from tensorflow.keras.preprocessing.text import Tokenizer\n",
    "from tensorflow.keras.utils import to_categorical\n",
    "from tensorflow.keras.models import Sequential\n",
    "from tensorflow.keras.layers import Dense,LSTM,Embedding\n",
    "from tensorflow.keras.preprocessing.sequence import pad_sequences"
   ]
  },
  {
   "cell_type": "code",
   "execution_count": 2,
   "metadata": {},
   "outputs": [],
   "source": [
    "file=open('t8.shakespeare.txt','r+')\n",
    "data=file.read()"
   ]
  },
  {
   "cell_type": "code",
   "execution_count": 3,
   "metadata": {},
   "outputs": [],
   "source": [
    "data=data.split('\\n') # removing the \\n character \n",
    "data=data[253:]\n",
    "data=' '.join(data) # joining the list of sentences after removing the new line character"
   ]
  },
  {
   "cell_type": "code",
   "execution_count": 4,
   "metadata": {},
   "outputs": [],
   "source": [
    "def cleaner(data):\n",
    "    token=data.split()\n",
    "    table=str.maketrans('','',string.punctuation)\n",
    "    token=[w.translate(table) for w in token]\n",
    "    token=[word for word in token if word.isalpha()]\n",
    "    token=[word.lower() for word in token]\n",
    "    return token"
   ]
  },
  {
   "cell_type": "code",
   "execution_count": 5,
   "metadata": {},
   "outputs": [],
   "source": [
    "words=cleaner(data=data)"
   ]
  },
  {
   "cell_type": "code",
   "execution_count": 6,
   "metadata": {},
   "outputs": [
    {
     "name": "stdout",
     "output_type": "stream",
     "text": [
      "Unique words: 27956\n"
     ]
    }
   ],
   "source": [
    "print(f'Unique words: {len(set(words))}')"
   ]
  },
  {
   "cell_type": "code",
   "execution_count": 7,
   "metadata": {},
   "outputs": [],
   "source": [
    "seed_length=10+1\n",
    "sentence=list()\n",
    "for i in range(seed_length,len(words)):\n",
    "    sequence=words[i-seed_length:i]\n",
    "    line=' '.join(sequence)\n",
    "    sentence.append(line)\n",
    "    if i >10000:\n",
    "        break"
   ]
  },
  {
   "cell_type": "code",
   "execution_count": 11,
   "metadata": {},
   "outputs": [],
   "source": [
    "tokenizer=Tokenizer()\n",
    "tokenizer.fit_on_texts(sentence)\n",
    "sequence=tokenizer.texts_to_sequences(sentence)"
   ]
  },
  {
   "cell_type": "code",
   "execution_count": 12,
   "metadata": {},
   "outputs": [],
   "source": [
    "sequence=np.array(sequence)\n",
    "X,y=sequence[:,:-1],sequence[:,-1]"
   ]
  },
  {
   "cell_type": "code",
   "execution_count": 16,
   "metadata": {},
   "outputs": [
    {
     "data": {
      "text/plain": [
       "2239"
      ]
     },
     "execution_count": 16,
     "metadata": {},
     "output_type": "execute_result"
    }
   ],
   "source": [
    "vocab_size=len(tokenizer.word_index)+1\n",
    "vocab_size"
   ]
  },
  {
   "cell_type": "code",
   "execution_count": 14,
   "metadata": {},
   "outputs": [],
   "source": [
    "y=to_categorical(y,num_classes=vocab_size)"
   ]
  },
  {
   "cell_type": "code",
   "execution_count": 17,
   "metadata": {},
   "outputs": [
    {
     "data": {
      "text/plain": [
       "10"
      ]
     },
     "execution_count": 17,
     "metadata": {},
     "output_type": "execute_result"
    }
   ],
   "source": [
    "sequence_length=X.shape[1]\n",
    "sequence_length"
   ]
  },
  {
   "cell_type": "markdown",
   "metadata": {},
   "source": [
    "*Model*"
   ]
  },
  {
   "cell_type": "code",
   "execution_count": 18,
   "metadata": {},
   "outputs": [],
   "source": [
    "model=Sequential()\n",
    "model.add(Embedding(vocab_size,50,input_length=sequence_length))\n",
    "model.add(LSTM(512,return_sequences=True))\n",
    "model.add(LSTM(256))\n",
    "model.add(Dense(125,activation='relu'))\n",
    "model.add(Dense(vocab_size,activation='softmax'))"
   ]
  },
  {
   "cell_type": "code",
   "execution_count": 19,
   "metadata": {},
   "outputs": [
    {
     "name": "stdout",
     "output_type": "stream",
     "text": [
      "Model: \"sequential\"\n",
      "_________________________________________________________________\n",
      "Layer (type)                 Output Shape              Param #   \n",
      "=================================================================\n",
      "embedding (Embedding)        (None, 10, 50)            111950    \n",
      "_________________________________________________________________\n",
      "lstm (LSTM)                  (None, 10, 512)           1153024   \n",
      "_________________________________________________________________\n",
      "lstm_1 (LSTM)                (None, 256)               787456    \n",
      "_________________________________________________________________\n",
      "dense (Dense)                (None, 125)               32125     \n",
      "_________________________________________________________________\n",
      "dense_1 (Dense)              (None, 2239)              282114    \n",
      "=================================================================\n",
      "Total params: 2,366,669\n",
      "Trainable params: 2,366,669\n",
      "Non-trainable params: 0\n",
      "_________________________________________________________________\n"
     ]
    }
   ],
   "source": [
    "model.summary()"
   ]
  },
  {
   "cell_type": "code",
   "execution_count": 21,
   "metadata": {},
   "outputs": [],
   "source": [
    "model.compile(optimizer=tf.keras.optimizers.Adam(learning_rate = 0.01),loss='categorical_crossentropy',metrics=['accuracy'])"
   ]
  },
  {
   "cell_type": "code",
   "execution_count": 23,
   "metadata": {},
   "outputs": [
    {
     "name": "stdout",
     "output_type": "stream",
     "text": [
      "Epoch 1/100\n",
      "20/20 [==============================] - 1s 41ms/step - loss: 0.6650 - accuracy: 0.8284\n",
      "Epoch 2/100\n",
      "20/20 [==============================] - 1s 42ms/step - loss: 0.9316 - accuracy: 0.7530\n",
      "Epoch 3/100\n",
      "20/20 [==============================] - 1s 41ms/step - loss: 1.5354 - accuracy: 0.6208\n",
      "Epoch 4/100\n",
      "20/20 [==============================] - 1s 41ms/step - loss: 2.2692 - accuracy: 0.4989\n",
      "Epoch 5/100\n",
      "20/20 [==============================] - 1s 41ms/step - loss: 2.7739 - accuracy: 0.4198\n",
      "Epoch 6/100\n",
      "20/20 [==============================] - 1s 41ms/step - loss: 3.0509 - accuracy: 0.3666\n",
      "Epoch 7/100\n",
      "20/20 [==============================] - 1s 41ms/step - loss: 2.9589 - accuracy: 0.3682\n",
      "Epoch 8/100\n",
      "20/20 [==============================] - 1s 41ms/step - loss: 2.9425 - accuracy: 0.3701\n",
      "Epoch 9/100\n",
      "20/20 [==============================] - 1s 41ms/step - loss: 2.6988 - accuracy: 0.3930\n",
      "Epoch 10/100\n",
      "20/20 [==============================] - 1s 41ms/step - loss: 2.3494 - accuracy: 0.4494\n",
      "Epoch 11/100\n",
      "20/20 [==============================] - 1s 41ms/step - loss: 2.0741 - accuracy: 0.4889\n",
      "Epoch 12/100\n",
      "20/20 [==============================] - 1s 41ms/step - loss: 1.8748 - accuracy: 0.5295\n",
      "Epoch 13/100\n",
      "20/20 [==============================] - 1s 41ms/step - loss: 1.6780 - accuracy: 0.5657\n",
      "Epoch 14/100\n",
      "20/20 [==============================] - 1s 41ms/step - loss: 1.5101 - accuracy: 0.6080\n",
      "Epoch 15/100\n",
      "20/20 [==============================] - 1s 41ms/step - loss: 1.3522 - accuracy: 0.6507\n",
      "Epoch 16/100\n",
      "20/20 [==============================] - 1s 41ms/step - loss: 1.2172 - accuracy: 0.6785\n",
      "Epoch 17/100\n",
      "20/20 [==============================] - 1s 41ms/step - loss: 1.1089 - accuracy: 0.7093\n",
      "Epoch 18/100\n",
      "20/20 [==============================] - 1s 41ms/step - loss: 1.0247 - accuracy: 0.7328\n",
      "Epoch 19/100\n",
      "20/20 [==============================] - 1s 41ms/step - loss: 0.9277 - accuracy: 0.7606\n",
      "Epoch 20/100\n",
      "20/20 [==============================] - 1s 41ms/step - loss: 0.8516 - accuracy: 0.7826\n",
      "Epoch 21/100\n",
      "20/20 [==============================] - 1s 41ms/step - loss: 0.7779 - accuracy: 0.8018\n",
      "Epoch 22/100\n",
      "20/20 [==============================] - 1s 41ms/step - loss: 0.7230 - accuracy: 0.8204\n",
      "Epoch 23/100\n",
      "20/20 [==============================] - 1s 41ms/step - loss: 0.6758 - accuracy: 0.8306\n",
      "Epoch 24/100\n",
      "20/20 [==============================] - 1s 41ms/step - loss: 0.6288 - accuracy: 0.8465\n",
      "Epoch 25/100\n",
      "20/20 [==============================] - 1s 41ms/step - loss: 0.5933 - accuracy: 0.8536\n",
      "Epoch 26/100\n",
      "20/20 [==============================] - 1s 41ms/step - loss: 0.5657 - accuracy: 0.8613\n",
      "Epoch 27/100\n",
      "20/20 [==============================] - 1s 41ms/step - loss: 0.5246 - accuracy: 0.8718\n",
      "Epoch 28/100\n",
      "20/20 [==============================] - 1s 41ms/step - loss: 0.5024 - accuracy: 0.8780\n",
      "Epoch 29/100\n",
      "20/20 [==============================] - 1s 41ms/step - loss: 0.4829 - accuracy: 0.8878\n",
      "Epoch 30/100\n",
      "20/20 [==============================] - 1s 41ms/step - loss: 0.4576 - accuracy: 0.8902\n",
      "Epoch 31/100\n",
      "20/20 [==============================] - 1s 40ms/step - loss: 0.4398 - accuracy: 0.8970\n",
      "Epoch 32/100\n",
      "20/20 [==============================] - 1s 41ms/step - loss: 0.4283 - accuracy: 0.8985\n",
      "Epoch 33/100\n",
      "20/20 [==============================] - 1s 41ms/step - loss: 0.4144 - accuracy: 0.9021\n",
      "Epoch 34/100\n",
      "20/20 [==============================] - 1s 41ms/step - loss: 0.3993 - accuracy: 0.9041\n",
      "Epoch 35/100\n",
      "20/20 [==============================] - 1s 41ms/step - loss: 0.3912 - accuracy: 0.9078\n",
      "Epoch 36/100\n",
      "20/20 [==============================] - 1s 41ms/step - loss: 0.3754 - accuracy: 0.9114\n",
      "Epoch 37/100\n",
      "20/20 [==============================] - 1s 41ms/step - loss: 0.3624 - accuracy: 0.9120\n",
      "Epoch 38/100\n",
      "20/20 [==============================] - 1s 40ms/step - loss: 0.3745 - accuracy: 0.9112\n",
      "Epoch 39/100\n",
      "20/20 [==============================] - 1s 42ms/step - loss: 0.3585 - accuracy: 0.9134\n",
      "Epoch 40/100\n",
      "20/20 [==============================] - 1s 41ms/step - loss: 0.3478 - accuracy: 0.9176\n",
      "Epoch 41/100\n",
      "20/20 [==============================] - 1s 41ms/step - loss: 0.3383 - accuracy: 0.9202\n",
      "Epoch 42/100\n",
      "20/20 [==============================] - 1s 41ms/step - loss: 0.3275 - accuracy: 0.9230\n",
      "Epoch 43/100\n",
      "20/20 [==============================] - 1s 41ms/step - loss: 0.3095 - accuracy: 0.9255\n",
      "Epoch 44/100\n",
      "20/20 [==============================] - 1s 41ms/step - loss: 0.2952 - accuracy: 0.9304\n",
      "Epoch 45/100\n",
      "20/20 [==============================] - 1s 41ms/step - loss: 0.2865 - accuracy: 0.9341\n",
      "Epoch 46/100\n",
      "20/20 [==============================] - 1s 41ms/step - loss: 0.2806 - accuracy: 0.9345\n",
      "Epoch 47/100\n",
      "20/20 [==============================] - 1s 41ms/step - loss: 0.2740 - accuracy: 0.9362\n",
      "Epoch 48/100\n",
      "20/20 [==============================] - 1s 41ms/step - loss: 0.2731 - accuracy: 0.9394\n",
      "Epoch 49/100\n",
      "20/20 [==============================] - 1s 40ms/step - loss: 0.2615 - accuracy: 0.9396\n",
      "Epoch 50/100\n",
      "20/20 [==============================] - 1s 41ms/step - loss: 0.2633 - accuracy: 0.9399\n",
      "Epoch 51/100\n",
      "20/20 [==============================] - 1s 41ms/step - loss: 0.2594 - accuracy: 0.9394\n",
      "Epoch 52/100\n",
      "20/20 [==============================] - 1s 41ms/step - loss: 0.2833 - accuracy: 0.9349\n",
      "Epoch 53/100\n",
      "20/20 [==============================] - 1s 41ms/step - loss: 0.3246 - accuracy: 0.9222\n",
      "Epoch 54/100\n",
      "20/20 [==============================] - 1s 40ms/step - loss: 0.3987 - accuracy: 0.8979\n",
      "Epoch 55/100\n",
      "20/20 [==============================] - 1s 41ms/step - loss: 0.6056 - accuracy: 0.8354\n",
      "Epoch 56/100\n",
      "20/20 [==============================] - 1s 41ms/step - loss: 1.1135 - accuracy: 0.7129\n",
      "Epoch 57/100\n",
      "20/20 [==============================] - 1s 40ms/step - loss: 1.7671 - accuracy: 0.5827\n",
      "Epoch 58/100\n",
      "20/20 [==============================] - 1s 40ms/step - loss: 2.3414 - accuracy: 0.4784\n",
      "Epoch 59/100\n",
      "20/20 [==============================] - 1s 42ms/step - loss: 2.6155 - accuracy: 0.4392\n",
      "Epoch 60/100\n",
      "20/20 [==============================] - 1s 41ms/step - loss: 2.6456 - accuracy: 0.4283\n",
      "Epoch 61/100\n",
      "20/20 [==============================] - 1s 39ms/step - loss: 2.4089 - accuracy: 0.4509\n",
      "Epoch 62/100\n",
      "20/20 [==============================] - 1s 37ms/step - loss: 2.2386 - accuracy: 0.4803\n",
      "Epoch 63/100\n",
      "20/20 [==============================] - 1s 42ms/step - loss: 2.2293 - accuracy: 0.4961\n",
      "Epoch 64/100\n",
      "20/20 [==============================] - 1s 43ms/step - loss: 2.1030 - accuracy: 0.5046\n",
      "Epoch 65/100\n",
      "20/20 [==============================] - 1s 41ms/step - loss: 2.0328 - accuracy: 0.5107\n",
      "Epoch 66/100\n",
      "20/20 [==============================] - 1s 41ms/step - loss: 1.8893 - accuracy: 0.5364\n",
      "Epoch 67/100\n",
      "20/20 [==============================] - 1s 41ms/step - loss: 1.5853 - accuracy: 0.5947\n",
      "Epoch 68/100\n",
      "20/20 [==============================] - 1s 42ms/step - loss: 1.3768 - accuracy: 0.6412\n",
      "Epoch 69/100\n",
      "20/20 [==============================] - 1s 41ms/step - loss: 1.2525 - accuracy: 0.6736\n",
      "Epoch 70/100\n",
      "20/20 [==============================] - 1s 40ms/step - loss: 1.2041 - accuracy: 0.6834\n",
      "Epoch 71/100\n",
      "20/20 [==============================] - 1s 41ms/step - loss: 1.0738 - accuracy: 0.7234\n",
      "Epoch 72/100\n",
      "20/20 [==============================] - 1s 41ms/step - loss: 0.9538 - accuracy: 0.7506\n",
      "Epoch 73/100\n",
      "20/20 [==============================] - 1s 41ms/step - loss: 0.8836 - accuracy: 0.7720\n",
      "Epoch 74/100\n",
      "20/20 [==============================] - 1s 41ms/step - loss: 0.7614 - accuracy: 0.8044\n",
      "Epoch 75/100\n",
      "20/20 [==============================] - 1s 41ms/step - loss: 0.6891 - accuracy: 0.8239\n",
      "Epoch 76/100\n",
      "20/20 [==============================] - 1s 42ms/step - loss: 0.6406 - accuracy: 0.8358\n",
      "Epoch 77/100\n",
      "20/20 [==============================] - 1s 40ms/step - loss: 0.5882 - accuracy: 0.8494\n",
      "Epoch 78/100\n",
      "20/20 [==============================] - 1s 40ms/step - loss: 0.5312 - accuracy: 0.8677\n",
      "Epoch 79/100\n",
      "20/20 [==============================] - 1s 39ms/step - loss: 0.4870 - accuracy: 0.8796\n",
      "Epoch 80/100\n",
      "20/20 [==============================] - 1s 40ms/step - loss: 0.4459 - accuracy: 0.8925\n",
      "Epoch 81/100\n",
      "20/20 [==============================] - 1s 39ms/step - loss: 0.4114 - accuracy: 0.9026\n",
      "Epoch 82/100\n",
      "20/20 [==============================] - 1s 42ms/step - loss: 0.3894 - accuracy: 0.9075\n",
      "Epoch 83/100\n",
      "20/20 [==============================] - 1s 42ms/step - loss: 0.3667 - accuracy: 0.9114\n",
      "Epoch 84/100\n",
      "20/20 [==============================] - 1s 41ms/step - loss: 0.3450 - accuracy: 0.9203\n",
      "Epoch 85/100\n",
      "20/20 [==============================] - 1s 40ms/step - loss: 0.3228 - accuracy: 0.9273\n",
      "Epoch 86/100\n",
      "20/20 [==============================] - 1s 41ms/step - loss: 0.3020 - accuracy: 0.9327\n",
      "Epoch 87/100\n",
      "20/20 [==============================] - 1s 40ms/step - loss: 0.2796 - accuracy: 0.9378\n",
      "Epoch 88/100\n",
      "20/20 [==============================] - 1s 40ms/step - loss: 0.2681 - accuracy: 0.9401\n",
      "Epoch 89/100\n",
      "20/20 [==============================] - 1s 40ms/step - loss: 0.2568 - accuracy: 0.9426\n",
      "Epoch 90/100\n",
      "20/20 [==============================] - 1s 40ms/step - loss: 0.2435 - accuracy: 0.9469\n",
      "Epoch 91/100\n",
      "20/20 [==============================] - 1s 40ms/step - loss: 0.2378 - accuracy: 0.9488\n",
      "Epoch 92/100\n",
      "20/20 [==============================] - 1s 40ms/step - loss: 0.2304 - accuracy: 0.9487\n",
      "Epoch 93/100\n",
      "20/20 [==============================] - 1s 40ms/step - loss: 0.2169 - accuracy: 0.9516\n",
      "Epoch 94/100\n",
      "20/20 [==============================] - 1s 40ms/step - loss: 0.2106 - accuracy: 0.9547\n",
      "Epoch 95/100\n",
      "20/20 [==============================] - 1s 40ms/step - loss: 0.2006 - accuracy: 0.9570\n",
      "Epoch 96/100\n",
      "20/20 [==============================] - 1s 40ms/step - loss: 0.1956 - accuracy: 0.9579\n",
      "Epoch 97/100\n",
      "20/20 [==============================] - 1s 40ms/step - loss: 0.1929 - accuracy: 0.9591\n",
      "Epoch 98/100\n",
      "20/20 [==============================] - 1s 40ms/step - loss: 0.1844 - accuracy: 0.9603\n",
      "Epoch 99/100\n",
      "20/20 [==============================] - 1s 40ms/step - loss: 0.1761 - accuracy: 0.9648\n",
      "Epoch 100/100\n",
      "20/20 [==============================] - 1s 40ms/step - loss: 0.1678 - accuracy: 0.9646\n"
     ]
    },
    {
     "data": {
      "text/plain": [
       "<tensorflow.python.keras.callbacks.History at 0x7f3fac23e990>"
      ]
     },
     "execution_count": 23,
     "metadata": {},
     "output_type": "execute_result"
    }
   ],
   "source": [
    "model.fit(X,y,batch_size=512,epochs=100)"
   ]
  },
  {
   "cell_type": "code",
   "execution_count": 24,
   "metadata": {},
   "outputs": [],
   "source": [
    "model.save('model.h5')"
   ]
  },
  {
   "cell_type": "raw",
   "metadata": {},
   "source": [
    "import json\n",
    "with open('decoder.json', 'w') as f:\n",
    "    json.dump(tokenizer.index_word,f, indent=4 )"
   ]
  },
  {
   "cell_type": "raw",
   "metadata": {},
   "source": [
    "import json\n",
    "with open('encoder.json', 'w') as f:\n",
    "    json.dump(tokenizer.word_index,f, indent=4 )"
   ]
  }
 ],
 "metadata": {
  "kernelspec": {
   "display_name": "Python 3",
   "language": "python",
   "name": "python3"
  },
  "language_info": {
   "codemirror_mode": {
    "name": "ipython",
    "version": 3
   },
   "file_extension": ".py",
   "mimetype": "text/x-python",
   "name": "python",
   "nbconvert_exporter": "python",
   "pygments_lexer": "ipython3",
   "version": "3.7.6"
  }
 },
 "nbformat": 4,
 "nbformat_minor": 4
}
